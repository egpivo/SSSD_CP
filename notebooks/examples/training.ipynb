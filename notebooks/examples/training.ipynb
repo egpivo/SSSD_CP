{
 "cells": [
  {
   "cell_type": "markdown",
   "metadata": {},
   "source": [
    "### Basic Settings"
   ]
  },
  {
   "cell_type": "code",
   "execution_count": null,
   "metadata": {},
   "outputs": [],
   "source": [
    "import os\n",
    "\n",
    "import torch\n",
    "import yaml\n",
    "\n",
    "from sssd.core.model_specs import MODEL_PATH_FORMAT, setup_model\n",
    "from sssd.data.utils import get_dataloader\n",
    "from sssd.training.trainer import DiffusionTrainer\n",
    "from sssd.utils.logger import setup_logger\n",
    "from sssd.utils.utils import calc_diffusion_hyperparams\n",
    "\n",
    "if \"results\" not in os.listdir(os.getcwd()):\n",
    "    os.chdir(\"../../\")"
   ]
  },
  {
   "cell_type": "markdown",
   "metadata": {},
   "source": [
    "### Setup Device"
   ]
  },
  {
   "cell_type": "code",
   "execution_count": null,
   "metadata": {},
   "outputs": [],
   "source": [
    "if torch.cuda.device_count() > 0:\n",
    "    print(f\"Using {torch.cuda.device_count()} GPUs!\")\n",
    "device = torch.device(\"cuda\" if torch.cuda.is_available() else \"cpu\")"
   ]
  },
  {
   "cell_type": "markdown",
   "metadata": {},
   "source": [
    "### Import Configs"
   ]
  },
  {
   "cell_type": "code",
   "execution_count": null,
   "metadata": {},
   "outputs": [],
   "source": [
    "with open(\"configs/model.yaml\", \"rt\") as f:\n",
    "    model_config = yaml.safe_load(f.read())\n",
    "with open(\"configs/training.yaml\", \"rt\") as f:\n",
    "    training_config = yaml.safe_load(f.read())"
   ]
  },
  {
   "cell_type": "markdown",
   "metadata": {},
   "source": [
    "### Setup Result Directory"
   ]
  },
  {
   "cell_type": "code",
   "execution_count": null,
   "metadata": {},
   "outputs": [],
   "source": [
    "local_path = MODEL_PATH_FORMAT.format(\n",
    "    T=model_config[\"diffusion\"][\"T\"],\n",
    "    beta_0=model_config[\"diffusion\"][\"beta_0\"],\n",
    "    beta_T=model_config[\"diffusion\"][\"beta_T\"],\n",
    ")\n",
    "output_directory = os.path.join(training_config[\"output_directory\"], local_path)\n",
    "\n",
    "if not os.path.isdir(output_directory):\n",
    "    os.makedirs(output_directory)\n",
    "    os.chmod(output_directory, 0o775)\n",
    "print(f\"Output directory %s\", output_directory)"
   ]
  },
  {
   "cell_type": "markdown",
   "metadata": {},
   "source": [
    "### Define Model Essentials"
   ]
  },
  {
   "cell_type": "code",
   "execution_count": null,
   "metadata": {},
   "outputs": [],
   "source": [
    "dataloader = get_dataloader(\n",
    "    training_config[\"data\"][\"train_path\"],\n",
    "    batch_size=training_config.get(\"batch_size\"),\n",
    "    device=device,\n",
    ")\n",
    "\n",
    "diffusion_hyperparams = calc_diffusion_hyperparams(\n",
    "    **model_config[\"diffusion\"], device=device\n",
    ")\n",
    "net = setup_model(training_config[\"use_model\"], model_config, device)"
   ]
  },
  {
   "cell_type": "markdown",
   "metadata": {},
   "source": [
    "### Model Training"
   ]
  },
  {
   "cell_type": "code",
   "execution_count": null,
   "metadata": {},
   "outputs": [],
   "source": [
    "trainer = DiffusionTrainer(\n",
    "    dataloader=dataloader,\n",
    "    diffusion_hyperparams=diffusion_hyperparams,\n",
    "    net=net,\n",
    "    device=device,\n",
    "    output_directory=output_directory,\n",
    "    ckpt_iter=training_config.get(\"ckpt_iter\"),\n",
    "    n_iters=training_config.get(\"n_iters\"),\n",
    "    iters_per_ckpt=training_config.get(\"iters_per_ckpt\"),\n",
    "    iters_per_logging=training_config.get(\"iters_per_logging\"),\n",
    "    learning_rate=training_config.get(\"learning_rate\"),\n",
    "    only_generate_missing=training_config.get(\"only_generate_missing\"),\n",
    "    masking=training_config.get(\"masking\"),\n",
    "    missing_k=training_config.get(\"missing_k\"),\n",
    "    batch_size=training_config.get(\"batch_size\"),\n",
    "    logger=setup_logger(),\n",
    ")\n",
    "trainer.train()"
   ]
  }
 ],
 "metadata": {
  "language_info": {
   "name": "python"
  }
 },
 "nbformat": 4,
 "nbformat_minor": 2
}
