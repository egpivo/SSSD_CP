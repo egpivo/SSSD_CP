{
  "cells": [
    {
      "cell_type": "markdown",
      "metadata": {
        "colab_type": "text",
        "id": "view-in-github"
      },
      "source": [
        "<a href=\"https://colab.research.google.com/github/egpivo/SSSD_CP/blob/feature%2Fadd-ar-simulation/run_sssd_jobs_on_colab.ipynb\" target=\"_parent\"><img src=\"https://colab.research.google.com/assets/colab-badge.svg\" alt=\"Open In Colab\"/></a>"
      ]
    },
    {
      "cell_type": "markdown",
      "metadata": {
        "id": "A8XoUP746r0v"
      },
      "source": [
        "## Environment Setup\n",
        "- Notes:\n",
        "  1. Choose device: GPU (Default is CPU).\n",
        "  2. Enter AWS key & password"
      ]
    },
    {
      "cell_type": "code",
      "execution_count": null,
      "metadata": {
        "colab": {
          "base_uri": "https://localhost:8080/"
        },
        "id": "co-Vbiz7PNoO",
        "outputId": "ff9ba012-10dc-4d3b-fb9e-fc3103026d32"
      },
      "outputs": [],
      "source": [
        "!pip install -q condacolab\n",
        "import condacolab\n",
        "condacolab.install()\n",
        "!pip install aws configure\n",
        "!pip install awscli\n",
        "!aws configure"
      ]
    },
    {
      "cell_type": "markdown",
      "metadata": {
        "id": "7i6XCbd67O0-"
      },
      "source": [
        "## Clone Main GitHub Repo\n",
        "- Notes\n",
        "  - Default is `main` branch"
      ]
    },
    {
      "cell_type": "code",
      "execution_count": null,
      "metadata": {
        "colab": {
          "base_uri": "https://localhost:8080/"
        },
        "id": "SDfuiSiqPYqS",
        "outputId": "acae1f9e-f8fc-4b16-b962-1d0f16516117"
      },
      "outputs": [],
      "source": [
        "!git clone --single-branch --branch feature/add-ar-simulation https://github.com/egpivo/SSSD_CP.git"
      ]
    },
    {
      "cell_type": "markdown",
      "metadata": {
        "id": "RbjBazxg7b0m"
      },
      "source": [
        "## Download AWS Datasets"
      ]
    },
    {
      "cell_type": "code",
      "execution_count": null,
      "metadata": {
        "colab": {
          "base_uri": "https://localhost:8080/"
        },
        "id": "BEkfFo_xWjte",
        "outputId": "6c7568f0-a2ae-4650-e3ba-019a443a6901"
      },
      "outputs": [],
      "source": [
        "!cd SSSD_CP && aws s3 sync s3://sssd-cp/datasets/ datasets"
      ]
    },
    {
      "cell_type": "markdown",
      "metadata": {
        "id": "WF35R26C7kKS"
      },
      "source": [
        "## Install Dependencies"
      ]
    },
    {
      "cell_type": "code",
      "execution_count": null,
      "metadata": {
        "colab": {
          "base_uri": "https://localhost:8080/"
        },
        "id": "gp3d9ZTWxf1h",
        "outputId": "fb50545e-07aa-4d56-af6d-96f34d6339e6"
      },
      "outputs": [],
      "source": [
        "!cd SSSD_CP && ls && make install-dev"
      ]
    },
    {
      "cell_type": "markdown",
      "metadata": {
        "id": "7-ot4ZXf7y_X"
      },
      "source": [
        "## Run A Toy Example"
      ]
    },
    {
      "cell_type": "code",
      "execution_count": null,
      "metadata": {
        "colab": {
          "base_uri": "https://localhost:8080/"
        },
        "id": "IZi1hxDW0xRR",
        "outputId": "0bbda938-0890-4302-a724-ad1a7566b9b3"
      },
      "outputs": [],
      "source": [
        "!cd SSSD_CP && make run-local-diffusion"
      ]
    },
    {
      "cell_type": "markdown",
      "metadata": {
        "id": "O8Wss1ev8DpZ"
      },
      "source": [
        "## *Result*\n",
        "\n",
        "- Notes\n",
        " - You can download the result by\n",
        "  ```python\n",
        "  from google.colab import files\n",
        "  files.download(file_name)\n",
        "  ```"
      ]
    },
    {
      "cell_type": "code",
      "execution_count": null,
      "metadata": {
        "colab": {
          "base_uri": "https://localhost:8080/"
        },
        "id": "fJ3ftDJK77yw",
        "outputId": "ef283857-15c2-455b-85bd-7c9a921c1a2a"
      },
      "outputs": [],
      "source": [
        "!ls SSSD_CP/results/NYISO_3_mix/T200_beta00.0001_betaT0.02"
      ]
    },
    {
      "cell_type": "markdown",
      "metadata": {
        "id": "mPRmH9MZ6qS8"
      },
      "source": []
    }
  ],
  "metadata": {
    "accelerator": "GPU",
    "colab": {
      "authorship_tag": "ABX9TyPNrbPuhEoxxvQqXiKwGV25",
      "gpuType": "T4",
      "include_colab_link": true,
      "provenance": []
    },
    "kernelspec": {
      "display_name": "Python 3",
      "name": "python3"
    },
    "language_info": {
      "name": "python"
    }
  },
  "nbformat": 4,
  "nbformat_minor": 0
}
