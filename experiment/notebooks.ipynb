{
 "cells": [
  {
   "cell_type": "markdown",
   "metadata": {},
   "source": [
    "# AR Simulation\n",
    "\n",
    "- Objective: Forecast the next 24 time steps, repeated 10 times, using the testing data.\n",
    "\n",
    "## Simulation Data\n",
    "\n",
    "A simulated time series data $\\mathbf{X} = (\\mathbf{X}_0, \\dots, \\mathbf{X}_n)^\\top \\in \\mathbb{R}^{n \\times L}$ with $\\mathbf{X}_i = (X_{i0}, \\dots, X_{iL})^\\top$ and\n",
    "\n",
    "$$\n",
    "\tX_{it} = \\mu^0 + \\phi X_{i(t-1)} + \\epsilon_{it}\t\n",
    "$$\n",
    "\n",
    "where\n",
    "- $i = 1, \\dots, n$\n",
    "- $t = 1, \\dots, L$\n",
    "- $\\epsilon_{it} \\sim \\mathcal{N}(0, \\sigma^2)$ is independent of $X_{i(t-1)}$ for all $i, t$\n",
    "- $\\mathbf{X}_i$ and $\\mathbf{X}_j$ are independent for all $i \\neq j$\n",
    "\n",
    "\n",
    "## Simulation Settings\n",
    "\n",
    "- Number of series: $n = 1024$\n",
    "    - 80% for training data\n",
    "    - 20% for testing data)\n",
    "- Length of each series: $L = 128$\n",
    "- Intercept: $\\mu^0 = 10$\n",
    "- Coefficient: $\\phi = 0.8$\n",
    "- Variance of error term: $\\sigma^2 = 1$\n",
    "- For the division into batches, we have:\n",
    "\n",
    "$$\n",
    "\\mathbf{X} = (\n",
    "\\mathbf{X}_{B_1},\n",
    "\\mathbf{X}_{B_2},\n",
    "\\cdots,\n",
    "\\mathbf{X}_{B_K}\n",
    ")^\\top\n",
    "$$\n",
    "\n",
    "where each batch $\\mathbf{X}_{B_k} \\in \\mathbb{R}^{B_k \\times L}$ with $B_k = 128$ and $B_1 + B_2 + \\cdots + B_K = 1024$."
   ]
  },
  {
   "cell_type": "markdown",
   "metadata": {},
   "source": [
    "## Results"
   ]
  },
  {
   "cell_type": "markdown",
   "metadata": {},
   "source": [
    "### Without Any Data Processing\n",
    "\n",
    "\n",
    "- $N(0, 1)$\n",
    "\n",
    "```{figure} artifact/ar1/normal_0_1_forecast.png\n",
    "---\n",
    "width: 400px\n",
    "name: fig-forecast-0-1\n",
    "---\n",
    "Comparison of mean trends for the true series and generated series over the entire time series.\n",
    "```{figure} artifact/ar1/normal_0_1_forecast_only.png\n",
    "---\n",
    "width: 400px\n",
    "name: fig-forecast-only-0-1\n",
    "---\n",
    "Forecasted mean trend with confidence bands representing the standard deviation.\n",
    "```\n",
    "\n",
    "- $N(0, 10)$\n",
    " \n",
    "```{figure} artifact/ar1/normal_0_10_forecast.png\n",
    "---\n",
    "width: 400px\n",
    "name: fig-forecast\n",
    "---\n",
    "Comparison of mean trends for the true series and generated series over the entire time series.\n",
    "```{figure} artifact/ar1/normal_0_10_forecast_only.png\n",
    "---\n",
    "width: 400px\n",
    "name: fig-forecast-only\n",
    "---\n",
    "Forecasted mean trend with confidence bands representing the standard deviation.\n",
    "```\n",
    "\n",
    "- $N(100, 1)$\n",
    "```{figure} artifact/ar1/normal_100_1_forecast.png\n",
    "---\n",
    "width: 400px\n",
    "name: fig-forecast\n",
    "---\n",
    "Comparison of mean trends for the true series and generated series over the entire time series.\n",
    "```{figure} artifact/ar1/normal_100_1_forecast_only.png\n",
    "---\n",
    "width: 400px\n",
    "name: fig-forecast-only\n",
    "---\n",
    "Forecasted mean trend with confidence bands representing the standard deviation.\n",
    "```"
   ]
  },
  {
   "cell_type": "code",
   "execution_count": null,
   "metadata": {},
   "outputs": [],
   "source": []
  }
 ],
 "metadata": {
  "kernelspec": {
   "display_name": "Python 3 (ipykernel)",
   "language": "python",
   "name": "python3"
  },
  "language_info": {
   "codemirror_mode": {
    "name": "ipython",
    "version": 3
   },
   "file_extension": ".py",
   "mimetype": "text/x-python",
   "name": "python",
   "nbconvert_exporter": "python",
   "pygments_lexer": "ipython3",
   "version": "3.10.13"
  },
  "widgets": {
   "application/vnd.jupyter.widget-state+json": {
    "state": {},
    "version_major": 2,
    "version_minor": 0
   }
  }
 },
 "nbformat": 4,
 "nbformat_minor": 4
}
