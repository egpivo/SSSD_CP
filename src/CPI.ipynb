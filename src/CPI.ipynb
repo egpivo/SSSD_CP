{
 "cells": [
  {
   "cell_type": "code",
   "execution_count": 39,
   "metadata": {},
   "outputs": [],
   "source": [
    "import os\n",
    "import numpy as np\n",
    "import pandas as pd\n",
    "from matplotlib import pyplot as plt\n",
    "from datetime import datetime, timedelta\n"
   ]
  },
  {
   "cell_type": "code",
   "execution_count": 2,
   "metadata": {},
   "outputs": [],
   "source": [
    "# data_reshape = data.reshape((10, pred_data.shape[1]*pred_data.shape[3]))\n",
    "# print(f\"reshape data to (files, all hours) {data_reshape.shape}\") # start from 1/8 00:00, ..., 23:00, 1/9 00:00,..."
   ]
  },
  {
   "cell_type": "code",
   "execution_count": 3,
   "metadata": {},
   "outputs": [],
   "source": [
    "def read_multiple_imputations(folder_path, missing_k):\n",
    "    \"\"\"\n",
    "    goal: read multiple imputations that are generated from 'inference_multiples.py', shape (obs, channel, length)\n",
    "    output: return an array, shape (number of imputation files, obs, channel, missing_k)\n",
    "    input:\n",
    "        folder_path = the folder that contains the file we want to read\n",
    "        missing_k = same 'missing_k' in config file, i.e, the number of the last elements to be predicted, ex: 24 in my case\n",
    "    \"\"\"\n",
    "    # Check if the folder exists\n",
    "    if not os.path.exists(folder_path):\n",
    "        print(f\"Folder '{folder_path}' does not exist.\")\n",
    "        return\n",
    "\n",
    "    # Get a list of files in the folder\n",
    "    file_list = os.listdir(folder_path)\n",
    "\n",
    "    # Filter out only imputation0.npy files\n",
    "    npy_files = [file for file in file_list if file.endswith(\"imputation0.npy\")]\n",
    "\n",
    "    if not npy_files:\n",
    "        print(f\"No imputation0.npy files found in '{folder_path}'.\")\n",
    "        return\n",
    "\n",
    "    # Loop through the all imputation0.npy files and read them\n",
    "    stack_array_data = None\n",
    "    for npy_file in npy_files:\n",
    "        array_data = read_missing_k_data(folder_path, npy_file, missing_k)\n",
    "        array_data = array_data.reshape(tuple([1]) + array_data.shape) # array_data.shape = (obs, channel, length) -> (1, obs, channel, length)\n",
    "\n",
    "        if stack_array_data is None:\n",
    "            stack_array_data = array_data\n",
    "        else:\n",
    "            stack_array_data = np.vstack((stack_array_data, array_data))\n",
    "\n",
    "    # print(f\"return (1) Load and stack all imputation0.npy files, shape: {stack_array_data.shape} = (files, obs, channels, length)\")\n",
    "\n",
    "    return stack_array_data\n",
    "\n",
    "\n",
    "\n",
    "def read_missing_k_data(folder_path, npy_file, missing_k):\n",
    "    \"\"\"\n",
    "    goal: return the last 24 elements of each observation\n",
    "    output: an array, shape (obs, channel, length = missing_k)\n",
    "    input:\n",
    "        folder_path = the folder that contains the file we want to read\n",
    "        npy_file = the file name that we want to read, ex: \"original0.npy\"\n",
    "        missing_k = same'missing_k' in config file, i.e, the number of the last elements to be predicted, ex: 24 in my case\n",
    "    \"\"\"\n",
    "    file_path = os.path.join(folder_path, npy_file)\n",
    "    true = np.load(file_path)\n",
    "    true = true[:,:,(-missing_k):]\n",
    "    # print(f\"return test data with imputation, shape{true.shape}\")\n",
    "    return true  \n",
    "def pred_interval(pred, beta):\n",
    "    \"\"\"\n",
    "    goal: compute the (1-alpha) quantile of imputation ecdf, i.e, prediction interval\n",
    "    output: lower bound and upper bound, shape: (obs, channel, length)\n",
    "    input:\n",
    "        pred = all data, shape(number of imputation files, obs, channel, length)\n",
    "        beta = significance level of original prediction interval\n",
    "    \"\"\"\n",
    "    beta = 0.05\n",
    "    # compute original prediciton intervals\n",
    "    L = np.quantile(pred_data, 0.025, axis=0)\n",
    "    U = np.quantile(pred_data, 0.975, axis=0)\n",
    "\n",
    "    return L, U\n",
    "\n",
    "def compute_E_star(L, U, true, alpha):\n",
    "    \"\"\"\n",
    "    goal: compute the (1-alpha) quantile of conformity scores, i.e, E_star\n",
    "    output: E_star, shape: (channel, length)\n",
    "    input:\n",
    "        L = lower bound to be adjusted, shape: (obs, channel, length)\n",
    "        U = upper bound to be adjusted, shape: (obs, channel, length)        \n",
    "        alpha = miscoverage rate of conformal prediction\n",
    "    \"\"\"\n",
    "\n",
    "    alpha = 0.05\n",
    "\n",
    "    # compute the conformity scores\n",
    "    E = np.maximum(L-true, true-U)\n",
    "    \n",
    "    # compute the (1-alpha) quantile of conformity scores\n",
    "    CP_PAR = (1+1/true.shape[0])*(1-alpha)\n",
    "    E_star = np.quantile(E, CP_PAR, axis=0)\n",
    "\n",
    "    return E_star\n",
    "\n",
    "def adjust_PI(L, U, E_star):\n",
    "    \"\"\"\n",
    "    goal: adjust prediction interval using conformal prediction\n",
    "    output: adjusted lower and upper bound, shape: (obs, channel, length)\n",
    "    input: \n",
    "        L = lower bound to be adjusted, shape: (obs, channel, length)\n",
    "        U = upper bound to be adjusted, shape: (obs, channel, length)\n",
    "        E_star = scores, shape: (channel, length)\n",
    "    \"\"\"\n",
    "    E_star_exd = np.expand_dims(E_star, axis=0)\n",
    "    return L-E_star_exd, U+E_star_exd\n",
    "\n",
    "def coverage_rate(L, U, true):\n",
    "    \"\"\"\n",
    "    goal: compute the coverage rate, which is the proportion of [L,U] contains true data \n",
    "    output: an array, shape (shape, length)\n",
    "    input:\n",
    "        L = lower bound, shape: (2209, 1, 24)\n",
    "        U = upper bound, shape: (2209, 1, 24)\n",
    "        true = true data, shape: (2209, 1, 24)\n",
    "    \"\"\"\n",
    "    return np.sum(np.logical_and(true_data > L, true_data < U), axis=0)/true.shape[0]\n",
    "\n",
    "def generate_date_from_seq(value):\n",
    "    \"\"\"\n",
    "    goal: what is the date of given number of obs\n",
    "    output: date\n",
    "    input: a value (obs)\n",
    "    \"\"\"\n",
    "    start_date = datetime.strptime(\"2019-01-08\", \"%Y-%m-%d\")\n",
    "    days_offset = value\n",
    "    target_date = start_date + timedelta(days=days_offset)\n",
    "    formatted_date = target_date.strftime(\"%Y/%m/%d\")\n",
    "    \n",
    "    return formatted_date\n"
   ]
  },
  {
   "cell_type": "markdown",
   "metadata": {},
   "source": [
    "# I_2"
   ]
  },
  {
   "cell_type": "code",
   "execution_count": 8,
   "metadata": {},
   "outputs": [],
   "source": []
  },
  {
   "cell_type": "code",
   "execution_count": 9,
   "metadata": {},
   "outputs": [
    {
     "name": "stdout",
     "output_type": "stream",
     "text": [
      "pred_data, shape: (48, 2209, 1, 24)\n",
      "true_data, shape: (2209, 1, 24)\n"
     ]
    }
   ],
   "source": [
    "folder_path = \"/home/hchuang/Documents/UQ-DL/SSSD/src/results/NYISO_NYC_split/T200_beta00.0001_betaT0.02/imputaiton_multiple/\"\n",
    "pred_data = read_multiple_imputations(folder_path, 24)\n",
    "true_data = read_missing_k_data(folder_path, npy_file=\"original0.npy\", missing_k = 24)\n",
    "\n",
    "print(f\"pred_data, shape: {pred_data.shape}\")\n",
    "print(f\"true_data, shape: {true_data.shape}\")"
   ]
  },
  {
   "cell_type": "code",
   "execution_count": 10,
   "metadata": {},
   "outputs": [],
   "source": [
    "L, U = pred_interval(pred_data, beta = 0.05)\n",
    "E_star = compute_E_star(L, U, true_data, alpha = 0.05)\n",
    "L_star, U_star = adjust_PI(L, U, E_star)"
   ]
  },
  {
   "cell_type": "code",
   "execution_count": 11,
   "metadata": {},
   "outputs": [
    {
     "data": {
      "text/plain": [
       "array([[0.16659122, 0.18062472, 0.18786781, 0.18741512, 0.19692168,\n",
       "        0.19511091, 0.20099593, 0.18650973, 0.17564509, 0.1674966 ,\n",
       "        0.16478044, 0.16251698, 0.14486193, 0.15301041, 0.15889543,\n",
       "        0.15210502, 0.14938886, 0.15980081, 0.15617927, 0.15708465,\n",
       "        0.15255772, 0.15029425, 0.13942961, 0.14893617]])"
      ]
     },
     "execution_count": 11,
     "metadata": {},
     "output_type": "execute_result"
    }
   ],
   "source": [
    "coverage_rate(L, U, true_data)"
   ]
  },
  {
   "cell_type": "code",
   "execution_count": 12,
   "metadata": {},
   "outputs": [
    {
     "data": {
      "text/plain": [
       "array([[0.95020371, 0.95020371, 0.95020371, 0.95020371, 0.95020371,\n",
       "        0.95020371, 0.95020371, 0.95020371, 0.95020371, 0.95020371,\n",
       "        0.95020371, 0.95020371, 0.95020371, 0.95020371, 0.95020371,\n",
       "        0.95020371, 0.95020371, 0.95020371, 0.95020371, 0.95020371,\n",
       "        0.95020371, 0.95020371, 0.95020371, 0.95020371]])"
      ]
     },
     "execution_count": 12,
     "metadata": {},
     "output_type": "execute_result"
    }
   ],
   "source": [
    "coverage_rate(L_star, U_star, true_data)"
   ]
  },
  {
   "cell_type": "markdown",
   "metadata": {},
   "source": [
    "# Test data"
   ]
  },
  {
   "cell_type": "markdown",
   "metadata": {},
   "source": [
    "## adjusted pred interval"
   ]
  },
  {
   "cell_type": "code",
   "execution_count": 13,
   "metadata": {},
   "outputs": [
    {
     "name": "stdout",
     "output_type": "stream",
     "text": [
      "pred_data, shape: (10, 358, 1, 24)\n",
      "true_data, shape: (358, 1, 24)\n"
     ]
    }
   ],
   "source": [
    "folder_path = \"/home/hchuang/Documents/UQ-DL/SSSD/src/results/NYISO_NYC_split/T200_beta00.0001_betaT0.02/imputaiton_multiple_test/\"\n",
    "pred_data = read_multiple_imputations(folder_path, 24)\n",
    "true_data = read_missing_k_data(folder_path, npy_file=\"original0.npy\", missing_k = 24)\n",
    "\n",
    "print(f\"pred_data, shape: {pred_data.shape}\")\n",
    "print(f\"true_data, shape: {true_data.shape}\")"
   ]
  },
  {
   "cell_type": "code",
   "execution_count": 14,
   "metadata": {},
   "outputs": [],
   "source": [
    "L, U = pred_interval(pred_data, beta = 0.05)\n",
    "L_star, U_star = adjust_PI(L, U, E_star)"
   ]
  },
  {
   "cell_type": "markdown",
   "metadata": {},
   "source": [
    "## coverage rate"
   ]
  },
  {
   "cell_type": "code",
   "execution_count": 82,
   "metadata": {},
   "outputs": [],
   "source": [
    "cr = coverage_rate(L, U, true_data)\n",
    "cr_star = coverage_rate(L_star, U_star, true_data)"
   ]
  },
  {
   "cell_type": "code",
   "execution_count": 56,
   "metadata": {},
   "outputs": [],
   "source": [
    "base_time = datetime.strptime(\"00:00\", \"%H:%M\")\n",
    "# Create a list of 24 elements by adding 1 hour to the base time in each iteration\n",
    "hours_sequence = [base_time + timedelta(hours=i) for i in range(24)]\n",
    "# Format the elements as strings in the desired format (HH:MM)\n",
    "formatted_sequence = [time.strftime(\"%H:%M\") for time in hours_sequence]\n"
   ]
  },
  {
   "cell_type": "markdown",
   "metadata": {},
   "source": [
    "## vis"
   ]
  },
  {
   "cell_type": "code",
   "execution_count": 109,
   "metadata": {},
   "outputs": [
    {
     "data": {
      "image/png": "[encoded data removed]",
      "text/plain": [
       "<Figure size 576x288 with 1 Axes>"
      ]
     },
     "metadata": {
      "needs_background": "light"
     },
     "output_type": "display_data"
    },
    {
     "data": {
      "image/png": "[encoded data removed]",
      "text/plain": [
       "<Figure size 576x288 with 1 Axes>"
      ]
     },
     "metadata": {
      "needs_background": "light"
     },
     "output_type": "display_data"
    }
   ],
   "source": [
    "obs = 0\n",
    "date = generate_date_from_sequence(obs)\n",
    "\n",
    "x = formatted_sequence\n",
    "y = true_data[obs,0,:]\n",
    "lower = L[obs,0,:]\n",
    "upper = U[obs,0,:]\n",
    "\n",
    "plt.figure(figsize=(8, 4)) \n",
    "plt.plot(x, y)\n",
    "plt.title(\"original prediction interval: \" +date)\n",
    "plt.xticks(rotation=45) \n",
    "plt.fill_between(x, lower, upper, color='blue', alpha=0.2)\n",
    "plt.ylim(-2.5, 2.5) \n",
    "plt.show()\n",
    "\n",
    "lower = L_star[obs,0,:]\n",
    "upper = U_star[obs,0,:]\n",
    "\n",
    "plt.figure(figsize=(8, 4)) \n",
    "plt.plot(x, y, color = 'orange')\n",
    "plt.title(\"adjusted prediction interval: \" + date)\n",
    "plt.xticks(rotation=45) \n",
    "plt.fill_between(x, lower, upper, color='orange', alpha=0.2)\n",
    "plt.ylim(-2.5, 2.5) \n",
    "plt.show()"
   ]
  },
  {
   "cell_type": "code",
   "execution_count": 100,
   "metadata": {},
   "outputs": [
    {
     "data": {
      "image/png": "[encoded data removed]",
      "text/plain": [
       "<Figure size 576x288 with 1 Axes>"
      ]
     },
     "metadata": {
      "needs_background": "light"
     },
     "output_type": "display_data"
    }
   ],
   "source": [
    "a = cr\n",
    "b = cr_star\n",
    "\n",
    "# Generate x values (assuming 24 hours)\n",
    "x = np.arange(24)\n",
    "\n",
    "# Set the width of the bars\n",
    "bar_width = 0.35\n",
    "\n",
    "\n",
    "# Plotting\n",
    "plt.figure(figsize=(8,4))\n",
    "plt.bar(x - bar_width/2, a.flatten(), bar_width, label='original')\n",
    "plt.bar(x + bar_width/2, b.flatten(), bar_width, label='adjusted')\n",
    "\n",
    "# Customize the plot\n",
    "\n",
    "plt.xlabel('Hour')\n",
    "plt.ylabel('')\n",
    "plt.title('Coverage Rate')\n",
    "plt.xticks(x)\n",
    "plt.legend()\n",
    "plt.ylim(0, 1.2) \n",
    "# Show the plot\n",
    "plt.show()\n"
   ]
  },
  {
   "cell_type": "code",
   "execution_count": null,
   "metadata": {},
   "outputs": [],
   "source": []
  }
 ],
 "metadata": {
  "kernelspec": {
   "display_name": "pt_fan",
   "language": "python",
   "name": "python3"
  },
  "language_info": {
   "codemirror_mode": {
    "name": "ipython",
    "version": 3
   },
   "file_extension": ".py",
   "mimetype": "text/x-python",
   "name": "python",
   "nbconvert_exporter": "python",
   "pygments_lexer": "ipython3",
   "version": "3.9.7"
  }
 },
 "nbformat": 4,
 "nbformat_minor": 2
}
