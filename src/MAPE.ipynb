{
 "cells": [
  {
   "cell_type": "code",
   "execution_count": 1,
   "metadata": {},
   "outputs": [],
   "source": [
    "import os\n",
    "import numpy as np\n",
    "import pandas as pd\n",
    "from matplotlib import pyplot as plt\n",
    "from datetime import datetime, timedelta"
   ]
  },
  {
   "cell_type": "code",
   "execution_count": 2,
   "metadata": {},
   "outputs": [],
   "source": [
    "# 自訂 function 可重新 reload\n",
    "from importlib import reload\n",
    "from utils import util_inference_result\n",
    "reload(util_inference_result)\n",
    "from utils.util_inference_result import *"
   ]
  },
  {
   "cell_type": "code",
   "execution_count": 7,
   "metadata": {},
   "outputs": [],
   "source": [
    "# NYC 目前只有一筆\n",
    "# main_folder = '/home/hchuang/Documents/Project/SSSD_CP/src/'\n",
    "# result_folder = 'results/NYISO_NYC/T200_beta00.0001_betaT0.02/'\n",
    "# dataset_folder = 'datasets/NYISO/dataset_1/zone/'\n",
    "# dataset_filename = 'load_array_N.Y.C._test.npy'\n",
    "\n",
    "# NYC_split\n",
    "# main_folder = '/home/hchuang/Documents/Project/SSSD_CP/src/'\n",
    "# result_folder = 'results/NYISO_NYC/T200_beta00.0001_betaT0.02/'\n",
    "# dataset_folder = 'datasets/NYISO/dataset_1/zone/'\n",
    "# dataset_filename = 'load_array_N.Y.C._test.npy'\n",
    "\n",
    "# mix\n",
    "# main_folder = '/home/hchuang/Documents/Project/SSSD_CP/src/'\n",
    "# result_folder = 'results/NYISO_mix/T200_beta00.0001_betaT0.02/imputaiton_multiple_mix_160k/'\n",
    "# dataset_folder = 'datasets/NYISO/dataset_2/mix/'\n",
    "# dataset_filename = 'mix_test_data_0.npy'\n",
    "\n",
    "\n",
    "# mix_fine_tune_1\n",
    "# main_folder = '/home/hchuang/Documents/Project/SSSD_CP/src/'\n",
    "# result_folder = 'results/NYISO_mix_fine_tune_1/T200_beta00.0001_betaT0.02/imputaiton_multiple_162k/'\n",
    "# dataset_folder = 'datasets/NYISO/dataset_2/mix/'\n",
    "# dataset_filename = 'mix_test_data_1.npy'\n",
    "\n",
    "# mix_fine_tune_2\n",
    "# main_folder = '/home/hchuang/Documents/Project/SSSD_CP/src/'\n",
    "# result_folder = 'results/NYISO_mix_fine_tune_2/T200_beta00.0001_betaT0.02/imputaiton_multiple_165k/'\n",
    "# dataset_folder = 'datasets/NYISO/dataset_2/mix/'\n",
    "# dataset_filename = 'mix_test_data_2.npy'\n",
    "\n",
    "# 2_all\n",
    "# main_folder = '/home/hchuang/Documents/Project/SSSD_CP/src/'\n",
    "# result_folder = 'results/NYISO_2_all/T200_beta00.0001_betaT0.02/imputaiton_multiple_70k/'\n",
    "# dataset_folder = 'datasets/NYISO/dataset_2/all/'\n",
    "# dataset_filename = 'all_test_data_0.npy'\n",
    "\n",
    "# 2_all_fine_tune_1\n",
    "# main_folder = '/home/hchuang/Documents/Project/SSSD_CP/src/'\n",
    "# result_folder = 'results/NYISO_2_all_fine_tune_1/T200_beta00.0001_betaT0.02/imputaiton_multiple_75k/'\n",
    "# dataset_folder = 'datasets/NYISO/dataset_2/all/'\n",
    "# dataset_filename = 'all_test_data_1.npy'\n",
    "\n",
    "# 2_all_fine_tune_2\n",
    "# main_folder = '/home/hchuang/Documents/Project/SSSD_CP/src/'\n",
    "# result_folder = 'results/NYISO_2_all_fine_tune_2/T200_beta00.0001_betaT0.02/imputaiton_multiple_80k/'\n",
    "# dataset_folder = 'datasets/NYISO/dataset_2/all/'\n",
    "# dataset_filename = 'all_test_data_2.npy'\n",
    "\n",
    "\n",
    "\n",
    "# 3_all\n",
    "# main_folder = '/home/hchuang/Documents/Project/SSSD_CP/src/'\n",
    "# result_folder = 'results/NYISO_3_all/T200_beta00.0001_betaT0.02/imputaiton_multiple_40k/'\n",
    "# dataset_folder = 'datasets/NYISO/dataset_3/all/'\n",
    "# dataset_filename = 'load_array_all_test.npy'\n",
    "\n",
    "# 3_NYC\n",
    "# main_folder = '/home/hchuang/Documents/Project/SSSD_CP/src/'\n",
    "# result_folder = 'results/NYISO_3_NYC/T200_beta00.0001_betaT0.02/imputaiton_multiple/'\n",
    "# dataset_folder = 'datasets/NYISO/dataset_3/zone/'\n",
    "# dataset_filename = 'N.Y.C._test.npy'\n",
    "\n",
    "# 3_MILLWD\n",
    "main_folder = '/home/hchuang/Documents/Project/SSSD_CP/src/'\n",
    "result_folder = 'results/NYISO_3_MILLWD/T200_beta00.0001_betaT0.02/imputaiton_multiple/'\n",
    "dataset_folder = 'datasets/NYISO/dataset_3/zone/'\n",
    "dataset_filename = 'MILLWD_test.npy'\n",
    "\n",
    "# 3_CAPITL\n",
    "# main_folder = '/home/hchuang/Documents/Project/SSSD_CP/src/'\n",
    "# result_folder = 'results/NYISO_3_CAPITL/T200_beta00.0001_betaT0.02/imputaiton_multiple/'\n",
    "# dataset_folder = 'datasets/NYISO/dataset_3/zone/'\n",
    "# dataset_filename = 'CAPITL_test.npy'"
   ]
  },
  {
   "cell_type": "code",
   "execution_count": 8,
   "metadata": {},
   "outputs": [
    {
     "name": "stdout",
     "output_type": "stream",
     "text": [
      "(10, 73, 1, 24)\n",
      "(73, 1, 192)\n",
      "(73, 1, 24)\n",
      "(73, 1, 192)\n",
      "(73, 1, 168)\n",
      "(73, 1, 24)\n"
     ]
    }
   ],
   "source": [
    "pred_data = read_multiple_imputations(main_folder + result_folder, 24)\n",
    "print(pred_data.shape)\n",
    "# pred_data_target = pred_data[:,:,:,-24:].reshape(pred_data.shape[1],1,24)\n",
    "# print(pred_data_target.shape)\n",
    "\n",
    "file_path = os.path.join(main_folder + result_folder, 'original0.npy')\n",
    "true_data = np.load(file_path)\n",
    "print(true_data.shape)\n",
    "true_data_target = true_data[:,:,-24:]\n",
    "print(true_data_target.shape)\n",
    "\n",
    "file_path = os.path.join(main_folder + dataset_folder, dataset_filename)\n",
    "true_data_o = np.swapaxes(np.load(file_path), axis1=1, axis2=2)\n",
    "print(true_data_o.shape)\n",
    "\n",
    "true_data_o_cond = true_data_o[:,:,0:168]\n",
    "print(true_data_o_cond.shape)\n",
    "true_data_o_target = true_data_o[:,:,-24:]\n",
    "print(true_data_o_target.shape)"
   ]
  },
  {
   "cell_type": "code",
   "execution_count": 9,
   "metadata": {},
   "outputs": [
    {
     "name": "stdout",
     "output_type": "stream",
     "text": [
      "(73, 1, 24)\n",
      "(73, 1, 24)\n"
     ]
    }
   ],
   "source": [
    "pred_mean = np.mean(pred_data, axis = 0)\n",
    "print(pred_mean.shape)\n",
    "\n",
    "m = np.mean(true_data_o_cond, axis=2).reshape((pred_mean.shape[0], pred_mean.shape[1], 1))\n",
    "s = np.std(true_data_o_cond, axis=2).reshape((pred_mean.shape[0], pred_mean.shape[1], 1))\n",
    "\n",
    "pred_mean_o = pred_mean*s + m\n",
    "print(pred_mean_o.shape)\n"
   ]
  },
  {
   "cell_type": "code",
   "execution_count": 10,
   "metadata": {},
   "outputs": [
    {
     "name": "stdout",
     "output_type": "stream",
     "text": [
      "MAPE: 4.2963\n",
      "MSE: 0.1801\n"
     ]
    }
   ],
   "source": [
    "print(f'MAPE: {round(np.mean(abs((true_data_o_target - pred_mean_o))/true_data_o_target)*100,4)}')\n",
    "print(f'MSE: {round(np.mean(np.square(true_data_target - pred_mean))*1,4)}')"
   ]
  },
  {
   "cell_type": "code",
   "execution_count": 12,
   "metadata": {},
   "outputs": [],
   "source": [
    "a = np.mean(abs((true_data_o_target - pred_mean_o)/true_data_o_target), axis = 2)*100"
   ]
  },
  {
   "cell_type": "code",
   "execution_count": 13,
   "metadata": {},
   "outputs": [
    {
     "data": {
      "text/plain": [
       "array([[ 6.96236972],\n",
       "       [ 4.64923087],\n",
       "       [ 4.3158702 ],\n",
       "       [ 3.37546491],\n",
       "       [ 3.14588432],\n",
       "       [ 2.06593642],\n",
       "       [ 1.9258242 ],\n",
       "       [ 7.5917375 ],\n",
       "       [ 5.95340866],\n",
       "       [ 4.62681395],\n",
       "       [16.0875459 ],\n",
       "       [ 3.08054554],\n",
       "       [ 1.77592718],\n",
       "       [ 3.00267251],\n",
       "       [ 3.93614476],\n",
       "       [ 2.31292676],\n",
       "       [ 1.75877688],\n",
       "       [ 2.10381575],\n",
       "       [ 2.16589374],\n",
       "       [ 4.59400147],\n",
       "       [ 5.14713543],\n",
       "       [ 4.47116479],\n",
       "       [ 4.02793576],\n",
       "       [ 3.12092458],\n",
       "       [ 5.61012898],\n",
       "       [ 4.33934589],\n",
       "       [ 9.44726431],\n",
       "       [ 6.24901213],\n",
       "       [ 2.23708142],\n",
       "       [ 1.11924964],\n",
       "       [ 3.10595223],\n",
       "       [10.21397785],\n",
       "       [ 5.11704039],\n",
       "       [ 3.14849355],\n",
       "       [ 2.14026702],\n",
       "       [10.65429523],\n",
       "       [ 2.4693427 ],\n",
       "       [ 3.86796702],\n",
       "       [ 2.50636028],\n",
       "       [ 4.15066096],\n",
       "       [ 7.34900635],\n",
       "       [ 4.42164727],\n",
       "       [ 2.12195315],\n",
       "       [ 4.43042354],\n",
       "       [ 3.46263743],\n",
       "       [ 2.96102467],\n",
       "       [ 3.85175545],\n",
       "       [ 1.79680921],\n",
       "       [ 3.53672427],\n",
       "       [ 2.56686504],\n",
       "       [ 2.1504453 ],\n",
       "       [ 3.8058294 ],\n",
       "       [ 2.51268534],\n",
       "       [ 1.82197863],\n",
       "       [ 2.80799658],\n",
       "       [ 3.65320248],\n",
       "       [13.15140256],\n",
       "       [ 2.06816521],\n",
       "       [ 5.38695316],\n",
       "       [ 2.2393879 ],\n",
       "       [ 5.54185532],\n",
       "       [ 2.64515597],\n",
       "       [ 3.08910584],\n",
       "       [ 4.02959516],\n",
       "       [ 7.75980783],\n",
       "       [ 5.783807  ],\n",
       "       [ 4.1219834 ],\n",
       "       [ 3.96321685],\n",
       "       [ 9.79419969],\n",
       "       [ 4.04743252],\n",
       "       [ 4.09476557],\n",
       "       [ 1.90193775],\n",
       "       [ 2.1848088 ]])"
      ]
     },
     "execution_count": 13,
     "metadata": {},
     "output_type": "execute_result"
    }
   ],
   "source": [
    "a"
   ]
  },
  {
   "cell_type": "code",
   "execution_count": 19,
   "metadata": {},
   "outputs": [
    {
     "data": {
      "text/plain": [
       "array([31, 35])"
      ]
     },
     "execution_count": 19,
     "metadata": {},
     "output_type": "execute_result"
    }
   ],
   "source": [
    "np.where(a > 7)[0]"
   ]
  },
  {
   "cell_type": "code",
   "execution_count": 67,
   "metadata": {},
   "outputs": [],
   "source": [
    "a_1=np.delete(a, np.where(a > 3)[0], None)"
   ]
  },
  {
   "cell_type": "code",
   "execution_count": 68,
   "metadata": {},
   "outputs": [
    {
     "data": {
      "text/plain": [
       "2.3106971467175854"
      ]
     },
     "execution_count": 68,
     "metadata": {},
     "output_type": "execute_result"
    }
   ],
   "source": [
    "np.mean(a_1)"
   ]
  },
  {
   "cell_type": "code",
   "execution_count": 8,
   "metadata": {},
   "outputs": [],
   "source": [
    "b = np.mean(np.square(true_data_target - pred_mean), axis = 2)"
   ]
  },
  {
   "cell_type": "code",
   "execution_count": 9,
   "metadata": {},
   "outputs": [
    {
     "data": {
      "text/plain": [
       "array([[0.10712365],\n",
       "       [0.07521594],\n",
       "       [0.20686716],\n",
       "       [0.21641032],\n",
       "       [0.03020974],\n",
       "       [0.03626305],\n",
       "       [0.02188603],\n",
       "       [0.31249958],\n",
       "       [0.10018346],\n",
       "       [0.05234196],\n",
       "       [0.01995359],\n",
       "       [0.01967776],\n",
       "       [0.04203163],\n",
       "       [0.02984966],\n",
       "       [0.10260755],\n",
       "       [0.01055031],\n",
       "       [0.01927925],\n",
       "       [0.07953691],\n",
       "       [0.04061956],\n",
       "       [0.0146625 ],\n",
       "       [0.12373526],\n",
       "       [0.0269018 ],\n",
       "       [0.0645749 ],\n",
       "       [0.0482727 ],\n",
       "       [0.07842322],\n",
       "       [0.0410951 ],\n",
       "       [0.17770834],\n",
       "       [0.01314435],\n",
       "       [0.01902446],\n",
       "       [0.01928058],\n",
       "       [0.03713358],\n",
       "       [0.6876352 ],\n",
       "       [0.07915884],\n",
       "       [0.11015019],\n",
       "       [0.03124131],\n",
       "       [0.50380355],\n",
       "       [0.09481322],\n",
       "       [0.01125013],\n",
       "       [0.03982279],\n",
       "       [0.09678072],\n",
       "       [0.06815821],\n",
       "       [0.10238466],\n",
       "       [0.05614662],\n",
       "       [0.02234146],\n",
       "       [0.02878874],\n",
       "       [0.02322108],\n",
       "       [0.02539085],\n",
       "       [0.0297752 ],\n",
       "       [0.0422684 ],\n",
       "       [0.03696938],\n",
       "       [0.06786023],\n",
       "       [0.01707254],\n",
       "       [0.03945047],\n",
       "       [0.08661006],\n",
       "       [0.02873398],\n",
       "       [0.12266132],\n",
       "       [0.42120337],\n",
       "       [0.13769935],\n",
       "       [0.05613601],\n",
       "       [0.03888136],\n",
       "       [0.14648776],\n",
       "       [0.0192581 ],\n",
       "       [0.07818406],\n",
       "       [0.01992679],\n",
       "       [0.14710408],\n",
       "       [0.18345626],\n",
       "       [0.14317544],\n",
       "       [0.11035045],\n",
       "       [0.097494  ],\n",
       "       [0.02404129],\n",
       "       [0.23650031],\n",
       "       [0.05114889],\n",
       "       [0.03131966]], dtype=float32)"
      ]
     },
     "execution_count": 9,
     "metadata": {},
     "output_type": "execute_result"
    }
   ],
   "source": [
    "b"
   ]
  },
  {
   "cell_type": "code",
   "execution_count": 7,
   "metadata": {},
   "outputs": [
    {
     "data": {
      "text/plain": [
       "(73, 11, 24)"
      ]
     },
     "execution_count": 7,
     "metadata": {},
     "output_type": "execute_result"
    }
   ],
   "source": [
    "true_data_o_target.shape"
   ]
  },
  {
   "cell_type": "code",
   "execution_count": 8,
   "metadata": {},
   "outputs": [
    {
     "data": {
      "text/plain": [
       "'load_array_all_test.npy'"
      ]
     },
     "execution_count": 8,
     "metadata": {},
     "output_type": "execute_result"
    }
   ],
   "source": [
    "dataset_filename"
   ]
  },
  {
   "cell_type": "code",
   "execution_count": 9,
   "metadata": {},
   "outputs": [
    {
     "name": "stdout",
     "output_type": "stream",
     "text": [
      "all\n",
      "MAPE: 2.5456\n",
      "MSE: 0.0909\n",
      "MAPE: 2.6123\n",
      "MSE: 0.0976\n",
      "MAPE: 2.6834\n",
      "MSE: 0.0624\n",
      "MAPE: 2.674\n",
      "MSE: 0.0803\n",
      "MAPE: 2.7752\n",
      "MSE: 0.0916\n",
      "MAPE: 2.8252\n",
      "MSE: 0.0676\n",
      "MAPE: 3.5359\n",
      "MSE: 0.1479\n",
      "MAPE: 4.2743\n",
      "MSE: 0.1815\n",
      "MAPE: 2.0187\n",
      "MSE: 0.0385\n",
      "MAPE: 2.0706\n",
      "MSE: 0.2648\n",
      "MAPE: 2.2605\n",
      "MSE: 0.0919\n"
     ]
    }
   ],
   "source": [
    "if dataset_filename[:3]=='mix':\n",
    "    print('mix')\n",
    "    # mix 資料集看單一個 zone\n",
    "    for i in range(11):\n",
    "        num = int(true_data_o_target.shape[0]/11)\n",
    "        zone_obs_num = range(num*(i), num*(i+1))\n",
    "        print(f'{i} MAPE: {round(np.mean(abs((true_data_o_target[zone_obs_num,:,:] - pred_data_rescale[zone_obs_num,:,:])/true_data_o_target[zone_obs_num,:,:]))*100,4)}')\n",
    "        # print(f'MSE: {round(np.mean(np.square(true_data_target[:,i,:] - pred_mean[:,i,:]))*1,4)}')\n",
    "if dataset_filename[:3]=='all' or dataset_filename[11:14]=='all':\n",
    "    print('all')\n",
    "    # all 資料集看單一個 zone\n",
    "    for i in range(11):\n",
    "        print(f'MAPE: {round(np.mean(abs((true_data_o_target[:,i,:] - pred_data_rescale[:,i,:])/true_data_o_target[:,i,:]))*100,4)}')\n",
    "        print(f'MSE: {round(np.mean(np.square(true_data_target[:,i,:] - pred_mean[:,i,:]))*1,4)}')"
   ]
  },
  {
   "cell_type": "markdown",
   "metadata": {},
   "source": [
    "# Select which pkl\n",
    "\n",
    "compare each imputation generated from different pkl"
   ]
  },
  {
   "cell_type": "code",
   "execution_count": 25,
   "metadata": {},
   "outputs": [
    {
     "name": "stdout",
     "output_type": "stream",
     "text": [
      "MAPE: 3.5904037804097957\n",
      "MAPE: 2.898665800129504\n",
      "MAPE: 2.8213715364070935\n",
      "MAPE: 2.744114768133877\n",
      "MAPE: 2.634120765526516\n",
      "MAPE: 2.580837563737816\n",
      "MAPE: 2.5700620774130165\n",
      "MAPE: 2.5964068438556995\n",
      "MAPE: 2.5493624462224145\n"
     ]
    }
   ],
   "source": [
    "main_folder = '/home/hchuang/Documents/Project/SSSD_CP/src/'\n",
    "result_folder = 'results/NYISO_mix/T200_beta00.0001_betaT0.02/compare_pkl_test_data_1/'\n",
    "dataset_folder = 'datasets/NYISO/dataset_2/mix/'\n",
    "dataset_filename = 'mix_test_data_1.npy'\n",
    "\n",
    "pred_data = read_multiple_imputations(main_folder + result_folder, 24)\n",
    "\n",
    "file_path = os.path.join(main_folder + result_folder, 'original0.npy')\n",
    "true_data = np.load(file_path)\n",
    "true_data_target = true_data[:,:,-24:]\n",
    "\n",
    "file_path = os.path.join(main_folder + dataset_folder, dataset_filename)\n",
    "true_data_o = np.swapaxes(np.load(file_path), axis1=1, axis2=2)\n",
    "\n",
    "true_data_o_cond = true_data_o[:,:,0:168]\n",
    "true_data_o_target = true_data_o[:,:,-24:]\n",
    "\n",
    "m = np.mean(true_data_o_cond, axis=2).reshape((true_data_o_cond.shape[0], 1, 1))\n",
    "s = np.std(true_data_o_cond, axis=2).reshape((true_data_o_cond.shape[0], 1, 1))\n",
    "\n",
    "# for i in range(17):\n",
    "for i in [0,1,2,3,9,13,14,15,16]:    \n",
    "    num = i+1\n",
    "    file_name = str(num) + '0_imputation0.npy'\n",
    "    file_path = os.path.join(main_folder + result_folder, file_name)\n",
    "    pred_each = np.load(file_path)\n",
    "    pred_each = pred_each[:,:,-24:]\n",
    "    # pred_each = pred_data[i,:,:,:].reshape(pred_data.shape[1],pred_data.shape[2],pred_data.shape[3])\n",
    "\n",
    "    pred_data_rescale = pred_each*s + m\n",
    "    print(f'MAPE: {np.mean(abs((true_data_o_target - pred_data_rescale)/true_data_o_target))*100}')\n"
   ]
  },
  {
   "cell_type": "code",
   "execution_count": null,
   "metadata": {},
   "outputs": [],
   "source": []
  },
  {
   "cell_type": "markdown",
   "metadata": {},
   "source": [
    "# mix data 對應到 zone\n"
   ]
  },
  {
   "cell_type": "code",
   "execution_count": 27,
   "metadata": {},
   "outputs": [
    {
     "name": "stdout",
     "output_type": "stream",
     "text": [
      "(22, 1, 192)\n"
     ]
    }
   ],
   "source": [
    "dataset_folder = 'datasets/NYISO/dataset_2/mix/'\n",
    "dataset_filename = 'mix_test_data_0_stdd.npy'\n",
    "file_path = os.path.join(main_folder + dataset_folder, dataset_filename)\n",
    "true_data = np.swapaxes(np.load(file_path), axis1=1, axis2=2)\n",
    "print(true_data.shape)"
   ]
  },
  {
   "cell_type": "code",
   "execution_count": 38,
   "metadata": {},
   "outputs": [
    {
     "name": "stdout",
     "output_type": "stream",
     "text": [
      "(2, 1, 192)\n"
     ]
    }
   ],
   "source": [
    "dataset_folder = 'datasets/NYISO/dataset_2/zone/'\n",
    "dataset_filename = 'WEST_test_data_0_stdd.npy'\n",
    "file_path = os.path.join(main_folder + dataset_folder, dataset_filename)\n",
    "zone_true_data = np.swapaxes(np.load(file_path), axis1=1, axis2=2)\n",
    "print(zone_true_data.shape)"
   ]
  },
  {
   "cell_type": "code",
   "execution_count": 39,
   "metadata": {},
   "outputs": [
    {
     "name": "stdout",
     "output_type": "stream",
     "text": [
      "[-0.84438167 -0.98628458]\n",
      "[-0.84438167 -0.98628458]\n"
     ]
    }
   ],
   "source": [
    "print(true_data[20:22,0,0])\n",
    "print(zone_true_data[0:2,0,0])"
   ]
  },
  {
   "cell_type": "code",
   "execution_count": null,
   "metadata": {},
   "outputs": [],
   "source": []
  },
  {
   "cell_type": "code",
   "execution_count": 12,
   "metadata": {},
   "outputs": [
    {
     "data": {
      "text/plain": [
       "0"
      ]
     },
     "execution_count": 12,
     "metadata": {},
     "output_type": "execute_result"
    }
   ],
   "source": [
    "2%1"
   ]
  },
  {
   "cell_type": "code",
   "execution_count": 24,
   "metadata": {},
   "outputs": [
    {
     "name": "stdout",
     "output_type": "stream",
     "text": [
      "0\n",
      "1\n",
      "2\n"
     ]
    }
   ],
   "source": [
    "n_iter = 0\n",
    "while n_iter < 3:\n",
    "    # print(n_iter)\n",
    "    print(n_iter)\n",
    "    for i in range(2):\n",
    "        i+i\n",
    "        # print(n_iter)\n",
    "    n_iter += 1\n",
    "    "
   ]
  },
  {
   "cell_type": "code",
   "execution_count": null,
   "metadata": {},
   "outputs": [],
   "source": []
  }
 ],
 "metadata": {
  "kernelspec": {
   "display_name": "pt_fan",
   "language": "python",
   "name": "python3"
  },
  "language_info": {
   "codemirror_mode": {
    "name": "ipython",
    "version": 3
   },
   "file_extension": ".py",
   "mimetype": "text/x-python",
   "name": "python",
   "nbconvert_exporter": "python",
   "pygments_lexer": "ipython3",
   "version": "3.9.7"
  }
 },
 "nbformat": 4,
 "nbformat_minor": 2
}
